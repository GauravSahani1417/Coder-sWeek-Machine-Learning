{
  "nbformat": 4,
  "nbformat_minor": 0,
  "metadata": {
    "colab": {
      "name": "task5new.ipynb",
      "provenance": []
    },
    "kernelspec": {
      "name": "python3",
      "display_name": "Python 3"
    }
  },
  "cells": [
    {
      "cell_type": "code",
      "metadata": {
        "id": "P3u419njDHJ2",
        "colab_type": "code",
        "colab": {}
      },
      "source": [
        "import numpy as np\n",
        "import matplotlib.pyplot as plt\n",
        "import pandas as pd"
      ],
      "execution_count": 0,
      "outputs": []
    },
    {
      "cell_type": "code",
      "metadata": {
        "id": "uOCRigELDfI2",
        "colab_type": "code",
        "colab": {}
      },
      "source": [
        "dataset=pd.read_csv(\"Flights.csv\")"
      ],
      "execution_count": 0,
      "outputs": []
    },
    {
      "cell_type": "code",
      "metadata": {
        "id": "_hJXuqf7DqdV",
        "colab_type": "code",
        "colab": {
          "base_uri": "https://localhost:8080/",
          "height": 850
        },
        "outputId": "2b63b7eb-e89d-475c-aac3-15535278d8ea"
      },
      "source": [
        "dataset.head(10)"
      ],
      "execution_count": 3,
      "outputs": [
        {
          "output_type": "execute_result",
          "data": {
            "text/html": [
              "<div>\n",
              "<style scoped>\n",
              "    .dataframe tbody tr th:only-of-type {\n",
              "        vertical-align: middle;\n",
              "    }\n",
              "\n",
              "    .dataframe tbody tr th {\n",
              "        vertical-align: top;\n",
              "    }\n",
              "\n",
              "    .dataframe thead th {\n",
              "        text-align: right;\n",
              "    }\n",
              "</style>\n",
              "<table border=\"1\" class=\"dataframe\">\n",
              "  <thead>\n",
              "    <tr style=\"text-align: right;\">\n",
              "      <th></th>\n",
              "      <th>id</th>\n",
              "      <th>conversation_id</th>\n",
              "      <th>created_at</th>\n",
              "      <th>date</th>\n",
              "      <th>time</th>\n",
              "      <th>timezone</th>\n",
              "      <th>user_id</th>\n",
              "      <th>username</th>\n",
              "      <th>name</th>\n",
              "      <th>place</th>\n",
              "      <th>tweet</th>\n",
              "      <th>mentions</th>\n",
              "      <th>urls</th>\n",
              "      <th>photos</th>\n",
              "      <th>replies_count</th>\n",
              "      <th>retweets_count</th>\n",
              "      <th>likes_count</th>\n",
              "      <th>hashtags</th>\n",
              "      <th>cashtags</th>\n",
              "      <th>link</th>\n",
              "      <th>retweet</th>\n",
              "      <th>quote_url</th>\n",
              "      <th>video</th>\n",
              "      <th>near</th>\n",
              "      <th>geo</th>\n",
              "      <th>source</th>\n",
              "      <th>user_rt_id</th>\n",
              "      <th>user_rt</th>\n",
              "      <th>retweet_id</th>\n",
              "      <th>reply_to</th>\n",
              "      <th>retweet_date</th>\n",
              "      <th>translate</th>\n",
              "      <th>trans_src</th>\n",
              "      <th>trans_dest</th>\n",
              "    </tr>\n",
              "  </thead>\n",
              "  <tbody>\n",
              "    <tr>\n",
              "      <th>0</th>\n",
              "      <td>1269251597617545217</td>\n",
              "      <td>1269251597617545217</td>\n",
              "      <td>1591448137000</td>\n",
              "      <td>2020-06-06</td>\n",
              "      <td>12:55:37</td>\n",
              "      <td>UTC</td>\n",
              "      <td>3241699511</td>\n",
              "      <td>sharoncorbett23</td>\n",
              "      <td>sharon Corbett</td>\n",
              "      <td>NaN</td>\n",
              "      <td>@1rorycowan my flight to Dublin cancelled so 5...</td>\n",
              "      <td>['1rorycowan']</td>\n",
              "      <td>[]</td>\n",
              "      <td>[]</td>\n",
              "      <td>0</td>\n",
              "      <td>0</td>\n",
              "      <td>0</td>\n",
              "      <td>[]</td>\n",
              "      <td>[]</td>\n",
              "      <td>https://twitter.com/sharoncorbett23/status/126...</td>\n",
              "      <td>False</td>\n",
              "      <td>NaN</td>\n",
              "      <td>0</td>\n",
              "      <td>NaN</td>\n",
              "      <td>NaN</td>\n",
              "      <td>NaN</td>\n",
              "      <td>NaN</td>\n",
              "      <td>NaN</td>\n",
              "      <td>NaN</td>\n",
              "      <td>[{'user_id': '3241699511', 'username': 'sharon...</td>\n",
              "      <td>NaN</td>\n",
              "      <td>NaN</td>\n",
              "      <td>NaN</td>\n",
              "      <td>NaN</td>\n",
              "    </tr>\n",
              "    <tr>\n",
              "      <th>1</th>\n",
              "      <td>1269251591976022018</td>\n",
              "      <td>1269251591976022018</td>\n",
              "      <td>1591448135000</td>\n",
              "      <td>2020-06-06</td>\n",
              "      <td>12:55:35</td>\n",
              "      <td>UTC</td>\n",
              "      <td>2441690720</td>\n",
              "      <td>vidyavikasmohan</td>\n",
              "      <td>vidya</td>\n",
              "      <td>NaN</td>\n",
              "      <td>@AAI_Official what are the quarantine rules fo...</td>\n",
              "      <td>['aai_official', 'aaichnairport']</td>\n",
              "      <td>[]</td>\n",
              "      <td>[]</td>\n",
              "      <td>0</td>\n",
              "      <td>0</td>\n",
              "      <td>0</td>\n",
              "      <td>[]</td>\n",
              "      <td>[]</td>\n",
              "      <td>https://twitter.com/Vidyavikasmohan/status/126...</td>\n",
              "      <td>False</td>\n",
              "      <td>NaN</td>\n",
              "      <td>0</td>\n",
              "      <td>NaN</td>\n",
              "      <td>NaN</td>\n",
              "      <td>NaN</td>\n",
              "      <td>NaN</td>\n",
              "      <td>NaN</td>\n",
              "      <td>NaN</td>\n",
              "      <td>[{'user_id': '2441690720', 'username': 'Vidyav...</td>\n",
              "      <td>NaN</td>\n",
              "      <td>NaN</td>\n",
              "      <td>NaN</td>\n",
              "      <td>NaN</td>\n",
              "    </tr>\n",
              "    <tr>\n",
              "      <th>2</th>\n",
              "      <td>1269251591821017089</td>\n",
              "      <td>1269251591821017089</td>\n",
              "      <td>1591448135000</td>\n",
              "      <td>2020-06-06</td>\n",
              "      <td>12:55:35</td>\n",
              "      <td>UTC</td>\n",
              "      <td>68159603</td>\n",
              "      <td>chematiah</td>\n",
              "      <td>Jackline Cherop</td>\n",
              "      <td>NaN</td>\n",
              "      <td>How will local flights operate with Nairobi,mo...</td>\n",
              "      <td>[]</td>\n",
              "      <td>[]</td>\n",
              "      <td>[]</td>\n",
              "      <td>0</td>\n",
              "      <td>0</td>\n",
              "      <td>0</td>\n",
              "      <td>['#6thjune', '#uhurukenyatta', '#uhurudontlift...</td>\n",
              "      <td>[]</td>\n",
              "      <td>https://twitter.com/Chematiah/status/126925159...</td>\n",
              "      <td>False</td>\n",
              "      <td>NaN</td>\n",
              "      <td>0</td>\n",
              "      <td>NaN</td>\n",
              "      <td>NaN</td>\n",
              "      <td>NaN</td>\n",
              "      <td>NaN</td>\n",
              "      <td>NaN</td>\n",
              "      <td>NaN</td>\n",
              "      <td>[{'user_id': '68159603', 'username': 'Chematia...</td>\n",
              "      <td>NaN</td>\n",
              "      <td>NaN</td>\n",
              "      <td>NaN</td>\n",
              "      <td>NaN</td>\n",
              "    </tr>\n",
              "    <tr>\n",
              "      <th>3</th>\n",
              "      <td>1269251582022938624</td>\n",
              "      <td>1269251582022938624</td>\n",
              "      <td>1591448133000</td>\n",
              "      <td>2020-06-06</td>\n",
              "      <td>12:55:33</td>\n",
              "      <td>UTC</td>\n",
              "      <td>1041325682544979970</td>\n",
              "      <td>namanag8</td>\n",
              "      <td>Naman Agarwal</td>\n",
              "      <td>NaN</td>\n",
              "      <td>@HCI_London My sister is a student and stuck i...</td>\n",
              "      <td>['hci_london']</td>\n",
              "      <td>[]</td>\n",
              "      <td>[]</td>\n",
              "      <td>0</td>\n",
              "      <td>0</td>\n",
              "      <td>0</td>\n",
              "      <td>[]</td>\n",
              "      <td>[]</td>\n",
              "      <td>https://twitter.com/NamanAg8/status/1269251582...</td>\n",
              "      <td>False</td>\n",
              "      <td>NaN</td>\n",
              "      <td>0</td>\n",
              "      <td>NaN</td>\n",
              "      <td>NaN</td>\n",
              "      <td>NaN</td>\n",
              "      <td>NaN</td>\n",
              "      <td>NaN</td>\n",
              "      <td>NaN</td>\n",
              "      <td>[{'user_id': '1041325682544979970', 'username'...</td>\n",
              "      <td>NaN</td>\n",
              "      <td>NaN</td>\n",
              "      <td>NaN</td>\n",
              "      <td>NaN</td>\n",
              "    </tr>\n",
              "    <tr>\n",
              "      <th>4</th>\n",
              "      <td>1269251580441886723</td>\n",
              "      <td>1269226918517149699</td>\n",
              "      <td>1591448132000</td>\n",
              "      <td>2020-06-06</td>\n",
              "      <td>12:55:32</td>\n",
              "      <td>UTC</td>\n",
              "      <td>1260262991163019269</td>\n",
              "      <td>tulchhasesma</td>\n",
              "      <td>T R Sesma</td>\n",
              "      <td>NaN</td>\n",
              "      <td>So many flights from other countries are landi...</td>\n",
              "      <td>['amitkumar_uae', 'airindiain', 'cmomaharashtra']</td>\n",
              "      <td>[]</td>\n",
              "      <td>[]</td>\n",
              "      <td>0</td>\n",
              "      <td>0</td>\n",
              "      <td>0</td>\n",
              "      <td>[]</td>\n",
              "      <td>[]</td>\n",
              "      <td>https://twitter.com/tulchhasesma/status/126925...</td>\n",
              "      <td>False</td>\n",
              "      <td>NaN</td>\n",
              "      <td>0</td>\n",
              "      <td>NaN</td>\n",
              "      <td>NaN</td>\n",
              "      <td>NaN</td>\n",
              "      <td>NaN</td>\n",
              "      <td>NaN</td>\n",
              "      <td>NaN</td>\n",
              "      <td>[{'user_id': '1260262991163019269', 'username'...</td>\n",
              "      <td>NaN</td>\n",
              "      <td>NaN</td>\n",
              "      <td>NaN</td>\n",
              "      <td>NaN</td>\n",
              "    </tr>\n",
              "    <tr>\n",
              "      <th>5</th>\n",
              "      <td>1269251572271218688</td>\n",
              "      <td>1266346843107139584</td>\n",
              "      <td>1591448131000</td>\n",
              "      <td>2020-06-06</td>\n",
              "      <td>12:55:31</td>\n",
              "      <td>UTC</td>\n",
              "      <td>355207557</td>\n",
              "      <td>mvel_sky</td>\n",
              "      <td>Velmurugan M</td>\n",
              "      <td>NaN</td>\n",
              "      <td>What is the cost of flight ticket from Japan t...</td>\n",
              "      <td>['narasimhanbr', 'indianembtokyo', 'airindiain']</td>\n",
              "      <td>[]</td>\n",
              "      <td>[]</td>\n",
              "      <td>0</td>\n",
              "      <td>0</td>\n",
              "      <td>0</td>\n",
              "      <td>['#vandebharatmissionphase3']</td>\n",
              "      <td>[]</td>\n",
              "      <td>https://twitter.com/mvel_sky/status/1269251572...</td>\n",
              "      <td>False</td>\n",
              "      <td>NaN</td>\n",
              "      <td>0</td>\n",
              "      <td>NaN</td>\n",
              "      <td>NaN</td>\n",
              "      <td>NaN</td>\n",
              "      <td>NaN</td>\n",
              "      <td>NaN</td>\n",
              "      <td>NaN</td>\n",
              "      <td>[{'user_id': '355207557', 'username': 'mvel_sk...</td>\n",
              "      <td>NaN</td>\n",
              "      <td>NaN</td>\n",
              "      <td>NaN</td>\n",
              "      <td>NaN</td>\n",
              "    </tr>\n",
              "    <tr>\n",
              "      <th>6</th>\n",
              "      <td>1269251555934470144</td>\n",
              "      <td>1269251555934470144</td>\n",
              "      <td>1591448127000</td>\n",
              "      <td>2020-06-06</td>\n",
              "      <td>12:55:27</td>\n",
              "      <td>UTC</td>\n",
              "      <td>197204752</td>\n",
              "      <td>madlost1</td>\n",
              "      <td>madlost1</td>\n",
              "      <td>NaN</td>\n",
              "      <td>#Japanpost will still not ship anything to the...</td>\n",
              "      <td>[]</td>\n",
              "      <td>[]</td>\n",
              "      <td>[]</td>\n",
              "      <td>0</td>\n",
              "      <td>0</td>\n",
              "      <td>0</td>\n",
              "      <td>['#japanpost']</td>\n",
              "      <td>[]</td>\n",
              "      <td>https://twitter.com/madlost1/status/1269251555...</td>\n",
              "      <td>False</td>\n",
              "      <td>NaN</td>\n",
              "      <td>0</td>\n",
              "      <td>NaN</td>\n",
              "      <td>NaN</td>\n",
              "      <td>NaN</td>\n",
              "      <td>NaN</td>\n",
              "      <td>NaN</td>\n",
              "      <td>NaN</td>\n",
              "      <td>[{'user_id': '197204752', 'username': 'madlost...</td>\n",
              "      <td>NaN</td>\n",
              "      <td>NaN</td>\n",
              "      <td>NaN</td>\n",
              "      <td>NaN</td>\n",
              "    </tr>\n",
              "    <tr>\n",
              "      <th>7</th>\n",
              "      <td>1269251555473137665</td>\n",
              "      <td>1268875079783297024</td>\n",
              "      <td>1591448127000</td>\n",
              "      <td>2020-06-06</td>\n",
              "      <td>12:55:27</td>\n",
              "      <td>UTC</td>\n",
              "      <td>720226362292711430</td>\n",
              "      <td>igot7bamx2_</td>\n",
              "      <td>น้องแบมแบมที่แปลว่าน่ารัก 🤟🏻</td>\n",
              "      <td>NaN</td>\n",
              "      <td>Flight log ขายหมดทั้ง2v.แล้วนะคะ 🥰</td>\n",
              "      <td>[]</td>\n",
              "      <td>[]</td>\n",
              "      <td>[]</td>\n",
              "      <td>0</td>\n",
              "      <td>0</td>\n",
              "      <td>0</td>\n",
              "      <td>[]</td>\n",
              "      <td>[]</td>\n",
              "      <td>https://twitter.com/igot7bamx2_/status/1269251...</td>\n",
              "      <td>False</td>\n",
              "      <td>NaN</td>\n",
              "      <td>0</td>\n",
              "      <td>NaN</td>\n",
              "      <td>NaN</td>\n",
              "      <td>NaN</td>\n",
              "      <td>NaN</td>\n",
              "      <td>NaN</td>\n",
              "      <td>NaN</td>\n",
              "      <td>[{'user_id': '720226362292711430', 'username':...</td>\n",
              "      <td>NaN</td>\n",
              "      <td>NaN</td>\n",
              "      <td>NaN</td>\n",
              "      <td>NaN</td>\n",
              "    </tr>\n",
              "    <tr>\n",
              "      <th>8</th>\n",
              "      <td>1269251554349068289</td>\n",
              "      <td>1269235608615972865</td>\n",
              "      <td>1591448126000</td>\n",
              "      <td>2020-06-06</td>\n",
              "      <td>12:55:26</td>\n",
              "      <td>UTC</td>\n",
              "      <td>1115408258242678786</td>\n",
              "      <td>frflights</td>\n",
              "      <td>Rose Flights ⚘</td>\n",
              "      <td>NaN</td>\n",
              "      <td>Me sure</td>\n",
              "      <td>['infinity_1407', 'symbxl']</td>\n",
              "      <td>[]</td>\n",
              "      <td>[]</td>\n",
              "      <td>0</td>\n",
              "      <td>0</td>\n",
              "      <td>0</td>\n",
              "      <td>[]</td>\n",
              "      <td>[]</td>\n",
              "      <td>https://twitter.com/frFlights/status/126925155...</td>\n",
              "      <td>False</td>\n",
              "      <td>NaN</td>\n",
              "      <td>0</td>\n",
              "      <td>NaN</td>\n",
              "      <td>NaN</td>\n",
              "      <td>NaN</td>\n",
              "      <td>NaN</td>\n",
              "      <td>NaN</td>\n",
              "      <td>NaN</td>\n",
              "      <td>[{'user_id': '1115408258242678786', 'username'...</td>\n",
              "      <td>NaN</td>\n",
              "      <td>NaN</td>\n",
              "      <td>NaN</td>\n",
              "      <td>NaN</td>\n",
              "    </tr>\n",
              "    <tr>\n",
              "      <th>9</th>\n",
              "      <td>1269251550137872384</td>\n",
              "      <td>1269251550137872384</td>\n",
              "      <td>1591448125000</td>\n",
              "      <td>2020-06-06</td>\n",
              "      <td>12:55:25</td>\n",
              "      <td>UTC</td>\n",
              "      <td>1164141604439056385</td>\n",
              "      <td>highlandermac72</td>\n",
              "      <td>Bruce McLeod 🏴󠁧󠁢󠁳󠁣󠁴󠁿</td>\n",
              "      <td>NaN</td>\n",
              "      <td>Morning, lovelies. \\n\\nWrestle Da is currently...</td>\n",
              "      <td>[]</td>\n",
              "      <td>[]</td>\n",
              "      <td>['https://pbs.twimg.com/media/EZ1JjnJWkAA5eUS....</td>\n",
              "      <td>0</td>\n",
              "      <td>0</td>\n",
              "      <td>0</td>\n",
              "      <td>[]</td>\n",
              "      <td>[]</td>\n",
              "      <td>https://twitter.com/highlandermac72/status/126...</td>\n",
              "      <td>False</td>\n",
              "      <td>NaN</td>\n",
              "      <td>0</td>\n",
              "      <td>NaN</td>\n",
              "      <td>NaN</td>\n",
              "      <td>NaN</td>\n",
              "      <td>NaN</td>\n",
              "      <td>NaN</td>\n",
              "      <td>NaN</td>\n",
              "      <td>[{'user_id': '1164141604439056385', 'username'...</td>\n",
              "      <td>NaN</td>\n",
              "      <td>NaN</td>\n",
              "      <td>NaN</td>\n",
              "      <td>NaN</td>\n",
              "    </tr>\n",
              "  </tbody>\n",
              "</table>\n",
              "</div>"
            ],
            "text/plain": [
              "                    id      conversation_id  ...  trans_src trans_dest\n",
              "0  1269251597617545217  1269251597617545217  ...        NaN        NaN\n",
              "1  1269251591976022018  1269251591976022018  ...        NaN        NaN\n",
              "2  1269251591821017089  1269251591821017089  ...        NaN        NaN\n",
              "3  1269251582022938624  1269251582022938624  ...        NaN        NaN\n",
              "4  1269251580441886723  1269226918517149699  ...        NaN        NaN\n",
              "5  1269251572271218688  1266346843107139584  ...        NaN        NaN\n",
              "6  1269251555934470144  1269251555934470144  ...        NaN        NaN\n",
              "7  1269251555473137665  1268875079783297024  ...        NaN        NaN\n",
              "8  1269251554349068289  1269235608615972865  ...        NaN        NaN\n",
              "9  1269251550137872384  1269251550137872384  ...        NaN        NaN\n",
              "\n",
              "[10 rows x 34 columns]"
            ]
          },
          "metadata": {
            "tags": []
          },
          "execution_count": 3
        }
      ]
    },
    {
      "cell_type": "code",
      "metadata": {
        "id": "S9nuaw_8Dwc7",
        "colab_type": "code",
        "colab": {
          "base_uri": "https://localhost:8080/",
          "height": 402
        },
        "outputId": "a5b35857-0b78-46e5-909f-e41ecd1103cd"
      },
      "source": [
        "df1=dataset[['id','user_id','name','tweet']]\n",
        "df1"
      ],
      "execution_count": 4,
      "outputs": [
        {
          "output_type": "execute_result",
          "data": {
            "text/html": [
              "<div>\n",
              "<style scoped>\n",
              "    .dataframe tbody tr th:only-of-type {\n",
              "        vertical-align: middle;\n",
              "    }\n",
              "\n",
              "    .dataframe tbody tr th {\n",
              "        vertical-align: top;\n",
              "    }\n",
              "\n",
              "    .dataframe thead th {\n",
              "        text-align: right;\n",
              "    }\n",
              "</style>\n",
              "<table border=\"1\" class=\"dataframe\">\n",
              "  <thead>\n",
              "    <tr style=\"text-align: right;\">\n",
              "      <th></th>\n",
              "      <th>id</th>\n",
              "      <th>user_id</th>\n",
              "      <th>name</th>\n",
              "      <th>tweet</th>\n",
              "    </tr>\n",
              "  </thead>\n",
              "  <tbody>\n",
              "    <tr>\n",
              "      <th>0</th>\n",
              "      <td>1269251597617545217</td>\n",
              "      <td>3241699511</td>\n",
              "      <td>sharon Corbett</td>\n",
              "      <td>@1rorycowan my flight to Dublin cancelled so 5...</td>\n",
              "    </tr>\n",
              "    <tr>\n",
              "      <th>1</th>\n",
              "      <td>1269251591976022018</td>\n",
              "      <td>2441690720</td>\n",
              "      <td>vidya</td>\n",
              "      <td>@AAI_Official what are the quarantine rules fo...</td>\n",
              "    </tr>\n",
              "    <tr>\n",
              "      <th>2</th>\n",
              "      <td>1269251591821017089</td>\n",
              "      <td>68159603</td>\n",
              "      <td>Jackline Cherop</td>\n",
              "      <td>How will local flights operate with Nairobi,mo...</td>\n",
              "    </tr>\n",
              "    <tr>\n",
              "      <th>3</th>\n",
              "      <td>1269251582022938624</td>\n",
              "      <td>1041325682544979970</td>\n",
              "      <td>Naman Agarwal</td>\n",
              "      <td>@HCI_London My sister is a student and stuck i...</td>\n",
              "    </tr>\n",
              "    <tr>\n",
              "      <th>4</th>\n",
              "      <td>1269251580441886723</td>\n",
              "      <td>1260262991163019269</td>\n",
              "      <td>T R Sesma</td>\n",
              "      <td>So many flights from other countries are landi...</td>\n",
              "    </tr>\n",
              "    <tr>\n",
              "      <th>...</th>\n",
              "      <td>...</td>\n",
              "      <td>...</td>\n",
              "      <td>...</td>\n",
              "      <td>...</td>\n",
              "    </tr>\n",
              "    <tr>\n",
              "      <th>5719</th>\n",
              "      <td>1269210814151421952</td>\n",
              "      <td>4374783440</td>\n",
              "      <td>Deep Bestie #supportCAA_NRC</td>\n",
              "      <td>Also my ticket was with Qatar which got cancel...</td>\n",
              "    </tr>\n",
              "    <tr>\n",
              "      <th>5720</th>\n",
              "      <td>1269210811739672579</td>\n",
              "      <td>2695997148</td>\n",
              "      <td>عرفان-</td>\n",
              "      <td>first time lps 22 tahun buat passport and book...</td>\n",
              "    </tr>\n",
              "    <tr>\n",
              "      <th>5721</th>\n",
              "      <td>1269210811668606978</td>\n",
              "      <td>1240269719829176322</td>\n",
              "      <td>MM1926</td>\n",
              "      <td>Hi, I have. Applied for a refund on the 5th of...</td>\n",
              "    </tr>\n",
              "    <tr>\n",
              "      <th>5722</th>\n",
              "      <td>1269210796669784069</td>\n",
              "      <td>95316732</td>\n",
              "      <td>Marcos Torre</td>\n",
              "      <td>Las grandes decisiones se toman siempre con fl...</td>\n",
              "    </tr>\n",
              "    <tr>\n",
              "      <th>5723</th>\n",
              "      <td>1269210789782540288</td>\n",
              "      <td>953175116216655872</td>\n",
              "      <td>Manpreet</td>\n",
              "      <td>Nodbody care about others  who realy need inte...</td>\n",
              "    </tr>\n",
              "  </tbody>\n",
              "</table>\n",
              "<p>5724 rows × 4 columns</p>\n",
              "</div>"
            ],
            "text/plain": [
              "                       id  ...                                              tweet\n",
              "0     1269251597617545217  ...  @1rorycowan my flight to Dublin cancelled so 5...\n",
              "1     1269251591976022018  ...  @AAI_Official what are the quarantine rules fo...\n",
              "2     1269251591821017089  ...  How will local flights operate with Nairobi,mo...\n",
              "3     1269251582022938624  ...  @HCI_London My sister is a student and stuck i...\n",
              "4     1269251580441886723  ...  So many flights from other countries are landi...\n",
              "...                   ...  ...                                                ...\n",
              "5719  1269210814151421952  ...  Also my ticket was with Qatar which got cancel...\n",
              "5720  1269210811739672579  ...  first time lps 22 tahun buat passport and book...\n",
              "5721  1269210811668606978  ...  Hi, I have. Applied for a refund on the 5th of...\n",
              "5722  1269210796669784069  ...  Las grandes decisiones se toman siempre con fl...\n",
              "5723  1269210789782540288  ...  Nodbody care about others  who realy need inte...\n",
              "\n",
              "[5724 rows x 4 columns]"
            ]
          },
          "metadata": {
            "tags": []
          },
          "execution_count": 4
        }
      ]
    },
    {
      "cell_type": "code",
      "metadata": {
        "id": "Gcm4jt_9ERIt",
        "colab_type": "code",
        "colab": {
          "base_uri": "https://localhost:8080/",
          "height": 34
        },
        "outputId": "0dd865d5-09d9-4761-e3e1-aa8793a17056"
      },
      "source": [
        "df1.shape"
      ],
      "execution_count": 5,
      "outputs": [
        {
          "output_type": "execute_result",
          "data": {
            "text/plain": [
              "(5724, 4)"
            ]
          },
          "metadata": {
            "tags": []
          },
          "execution_count": 5
        }
      ]
    },
    {
      "cell_type": "code",
      "metadata": {
        "id": "lDDMCReXEh2P",
        "colab_type": "code",
        "colab": {
          "base_uri": "https://localhost:8080/",
          "height": 67
        },
        "outputId": "463dc12c-1a6a-4346-90fb-cbfa6eed3278"
      },
      "source": [
        "import re\n",
        "import nltk\n",
        "nltk.download('stopwords')"
      ],
      "execution_count": 6,
      "outputs": [
        {
          "output_type": "stream",
          "text": [
            "[nltk_data] Downloading package stopwords to /root/nltk_data...\n",
            "[nltk_data]   Package stopwords is already up-to-date!\n"
          ],
          "name": "stdout"
        },
        {
          "output_type": "execute_result",
          "data": {
            "text/plain": [
              "True"
            ]
          },
          "metadata": {
            "tags": []
          },
          "execution_count": 6
        }
      ]
    },
    {
      "cell_type": "code",
      "metadata": {
        "id": "P_LNIbMCEvUC",
        "colab_type": "code",
        "colab": {}
      },
      "source": [
        "from nltk.corpus import stopwords\n",
        "from nltk.stem.porter import PorterStemmer\n",
        "ps=PorterStemmer()\n",
        "corpus=[]"
      ],
      "execution_count": 0,
      "outputs": []
    },
    {
      "cell_type": "code",
      "metadata": {
        "id": "iyNezDdjE0K5",
        "colab_type": "code",
        "colab": {}
      },
      "source": [
        "for i in range(0, len(df1)):\n",
        "    review=re.sub('[^a-zA-Z]',' ',df1['tweet'][i])\n",
        "    review=review.lower() \n",
        "    review=review.split()\n",
        "    review = [ps.stem(word) for word in review if not word in stopwords.words('english')]\n",
        "    review=' '.join(review)\n",
        "    corpus.append(review)"
      ],
      "execution_count": 0,
      "outputs": []
    },
    {
      "cell_type": "code",
      "metadata": {
        "id": "nZmXbjGHFNKx",
        "colab_type": "code",
        "colab": {}
      },
      "source": [
        "from sklearn.feature_extraction.text import TfidfVectorizer\n",
        "tf=TfidfVectorizer(max_features=2000,ngram_range=(1,3))  \n",
        "X=tf.fit_transform(corpus).toarray()\n"
      ],
      "execution_count": 0,
      "outputs": []
    },
    {
      "cell_type": "code",
      "metadata": {
        "id": "jRTcqyDjHXnJ",
        "colab_type": "code",
        "colab": {
          "base_uri": "https://localhost:8080/",
          "height": 34
        },
        "outputId": "d4cb6586-c45c-472a-8859-0f6b9d8cf120"
      },
      "source": [
        "X.shape"
      ],
      "execution_count": 12,
      "outputs": [
        {
          "output_type": "execute_result",
          "data": {
            "text/plain": [
              "(5724, 2000)"
            ]
          },
          "metadata": {
            "tags": []
          },
          "execution_count": 12
        }
      ]
    },
    {
      "cell_type": "code",
      "metadata": {
        "id": "TF7UEjn1Hxe6",
        "colab_type": "code",
        "colab": {
          "base_uri": "https://localhost:8080/",
          "height": 121
        },
        "outputId": "35a31c3d-3691-4a46-ec64-d05d38301c87"
      },
      "source": [
        "from nltk.sentiment.vader import SentimentIntensityAnalyzer\n",
        "nltk.download('vader_lexicon')"
      ],
      "execution_count": 13,
      "outputs": [
        {
          "output_type": "stream",
          "text": [
            "[nltk_data] Downloading package vader_lexicon to /root/nltk_data...\n",
            "[nltk_data]   Package vader_lexicon is already up-to-date!\n"
          ],
          "name": "stdout"
        },
        {
          "output_type": "stream",
          "text": [
            "/usr/local/lib/python3.6/dist-packages/nltk/twitter/__init__.py:20: UserWarning: The twython library has not been installed. Some functionality from the twitter package will not be available.\n",
            "  warnings.warn(\"The twython library has not been installed. \"\n"
          ],
          "name": "stderr"
        },
        {
          "output_type": "execute_result",
          "data": {
            "text/plain": [
              "True"
            ]
          },
          "metadata": {
            "tags": []
          },
          "execution_count": 13
        }
      ]
    },
    {
      "cell_type": "code",
      "metadata": {
        "id": "hVB66uxrI-YC",
        "colab_type": "code",
        "colab": {}
      },
      "source": [
        "import textblob\n",
        "from textblob import TextBlob"
      ],
      "execution_count": 0,
      "outputs": []
    },
    {
      "cell_type": "code",
      "metadata": {
        "id": "wvBMy5y0JG2t",
        "colab_type": "code",
        "colab": {}
      },
      "source": [
        "value=[]\n",
        "for i in df1['tweet'].values:\n",
        "    try:\n",
        "        analysis=TextBlob(i)\n",
        "        value.append(analysis.sentiment.value)\n",
        "    except:\n",
        "        value.append(0)"
      ],
      "execution_count": 0,
      "outputs": []
    },
    {
      "cell_type": "code",
      "metadata": {
        "id": "822rrG26JYzv",
        "colab_type": "code",
        "colab": {
          "base_uri": "https://localhost:8080/",
          "height": 296
        },
        "outputId": "21cf8e0e-ed45-40f3-de3d-376dfea97d60"
      },
      "source": [
        "df1['value']=value\n",
        "df1.head()"
      ],
      "execution_count": 16,
      "outputs": [
        {
          "output_type": "stream",
          "text": [
            "/usr/local/lib/python3.6/dist-packages/ipykernel_launcher.py:1: SettingWithCopyWarning: \n",
            "A value is trying to be set on a copy of a slice from a DataFrame.\n",
            "Try using .loc[row_indexer,col_indexer] = value instead\n",
            "\n",
            "See the caveats in the documentation: https://pandas.pydata.org/pandas-docs/stable/user_guide/indexing.html#returning-a-view-versus-a-copy\n",
            "  \"\"\"Entry point for launching an IPython kernel.\n"
          ],
          "name": "stderr"
        },
        {
          "output_type": "execute_result",
          "data": {
            "text/html": [
              "<div>\n",
              "<style scoped>\n",
              "    .dataframe tbody tr th:only-of-type {\n",
              "        vertical-align: middle;\n",
              "    }\n",
              "\n",
              "    .dataframe tbody tr th {\n",
              "        vertical-align: top;\n",
              "    }\n",
              "\n",
              "    .dataframe thead th {\n",
              "        text-align: right;\n",
              "    }\n",
              "</style>\n",
              "<table border=\"1\" class=\"dataframe\">\n",
              "  <thead>\n",
              "    <tr style=\"text-align: right;\">\n",
              "      <th></th>\n",
              "      <th>id</th>\n",
              "      <th>user_id</th>\n",
              "      <th>name</th>\n",
              "      <th>tweet</th>\n",
              "      <th>value</th>\n",
              "    </tr>\n",
              "  </thead>\n",
              "  <tbody>\n",
              "    <tr>\n",
              "      <th>0</th>\n",
              "      <td>1269251597617545217</td>\n",
              "      <td>3241699511</td>\n",
              "      <td>sharon Corbett</td>\n",
              "      <td>@1rorycowan my flight to Dublin cancelled so 5...</td>\n",
              "      <td>0</td>\n",
              "    </tr>\n",
              "    <tr>\n",
              "      <th>1</th>\n",
              "      <td>1269251591976022018</td>\n",
              "      <td>2441690720</td>\n",
              "      <td>vidya</td>\n",
              "      <td>@AAI_Official what are the quarantine rules fo...</td>\n",
              "      <td>0</td>\n",
              "    </tr>\n",
              "    <tr>\n",
              "      <th>2</th>\n",
              "      <td>1269251591821017089</td>\n",
              "      <td>68159603</td>\n",
              "      <td>Jackline Cherop</td>\n",
              "      <td>How will local flights operate with Nairobi,mo...</td>\n",
              "      <td>0</td>\n",
              "    </tr>\n",
              "    <tr>\n",
              "      <th>3</th>\n",
              "      <td>1269251582022938624</td>\n",
              "      <td>1041325682544979970</td>\n",
              "      <td>Naman Agarwal</td>\n",
              "      <td>@HCI_London My sister is a student and stuck i...</td>\n",
              "      <td>0</td>\n",
              "    </tr>\n",
              "    <tr>\n",
              "      <th>4</th>\n",
              "      <td>1269251580441886723</td>\n",
              "      <td>1260262991163019269</td>\n",
              "      <td>T R Sesma</td>\n",
              "      <td>So many flights from other countries are landi...</td>\n",
              "      <td>0</td>\n",
              "    </tr>\n",
              "  </tbody>\n",
              "</table>\n",
              "</div>"
            ],
            "text/plain": [
              "                    id  ...  value\n",
              "0  1269251597617545217  ...      0\n",
              "1  1269251591976022018  ...      0\n",
              "2  1269251591821017089  ...      0\n",
              "3  1269251582022938624  ...      0\n",
              "4  1269251580441886723  ...      0\n",
              "\n",
              "[5 rows x 5 columns]"
            ]
          },
          "metadata": {
            "tags": []
          },
          "execution_count": 16
        }
      ]
    },
    {
      "cell_type": "code",
      "metadata": {
        "id": "AgPrlcKWJmSN",
        "colab_type": "code",
        "colab": {
          "base_uri": "https://localhost:8080/",
          "height": 639
        },
        "outputId": "89eec6d3-83b8-4238-954f-862769cd924b"
      },
      "source": [
        "df1.head(20)"
      ],
      "execution_count": 17,
      "outputs": [
        {
          "output_type": "execute_result",
          "data": {
            "text/html": [
              "<div>\n",
              "<style scoped>\n",
              "    .dataframe tbody tr th:only-of-type {\n",
              "        vertical-align: middle;\n",
              "    }\n",
              "\n",
              "    .dataframe tbody tr th {\n",
              "        vertical-align: top;\n",
              "    }\n",
              "\n",
              "    .dataframe thead th {\n",
              "        text-align: right;\n",
              "    }\n",
              "</style>\n",
              "<table border=\"1\" class=\"dataframe\">\n",
              "  <thead>\n",
              "    <tr style=\"text-align: right;\">\n",
              "      <th></th>\n",
              "      <th>id</th>\n",
              "      <th>user_id</th>\n",
              "      <th>name</th>\n",
              "      <th>tweet</th>\n",
              "      <th>value</th>\n",
              "    </tr>\n",
              "  </thead>\n",
              "  <tbody>\n",
              "    <tr>\n",
              "      <th>0</th>\n",
              "      <td>1269251597617545217</td>\n",
              "      <td>3241699511</td>\n",
              "      <td>sharon Corbett</td>\n",
              "      <td>@1rorycowan my flight to Dublin cancelled so 5...</td>\n",
              "      <td>0</td>\n",
              "    </tr>\n",
              "    <tr>\n",
              "      <th>1</th>\n",
              "      <td>1269251591976022018</td>\n",
              "      <td>2441690720</td>\n",
              "      <td>vidya</td>\n",
              "      <td>@AAI_Official what are the quarantine rules fo...</td>\n",
              "      <td>0</td>\n",
              "    </tr>\n",
              "    <tr>\n",
              "      <th>2</th>\n",
              "      <td>1269251591821017089</td>\n",
              "      <td>68159603</td>\n",
              "      <td>Jackline Cherop</td>\n",
              "      <td>How will local flights operate with Nairobi,mo...</td>\n",
              "      <td>0</td>\n",
              "    </tr>\n",
              "    <tr>\n",
              "      <th>3</th>\n",
              "      <td>1269251582022938624</td>\n",
              "      <td>1041325682544979970</td>\n",
              "      <td>Naman Agarwal</td>\n",
              "      <td>@HCI_London My sister is a student and stuck i...</td>\n",
              "      <td>0</td>\n",
              "    </tr>\n",
              "    <tr>\n",
              "      <th>4</th>\n",
              "      <td>1269251580441886723</td>\n",
              "      <td>1260262991163019269</td>\n",
              "      <td>T R Sesma</td>\n",
              "      <td>So many flights from other countries are landi...</td>\n",
              "      <td>0</td>\n",
              "    </tr>\n",
              "    <tr>\n",
              "      <th>5</th>\n",
              "      <td>1269251572271218688</td>\n",
              "      <td>355207557</td>\n",
              "      <td>Velmurugan M</td>\n",
              "      <td>What is the cost of flight ticket from Japan t...</td>\n",
              "      <td>0</td>\n",
              "    </tr>\n",
              "    <tr>\n",
              "      <th>6</th>\n",
              "      <td>1269251555934470144</td>\n",
              "      <td>197204752</td>\n",
              "      <td>madlost1</td>\n",
              "      <td>#Japanpost will still not ship anything to the...</td>\n",
              "      <td>0</td>\n",
              "    </tr>\n",
              "    <tr>\n",
              "      <th>7</th>\n",
              "      <td>1269251555473137665</td>\n",
              "      <td>720226362292711430</td>\n",
              "      <td>น้องแบมแบมที่แปลว่าน่ารัก 🤟🏻</td>\n",
              "      <td>Flight log ขายหมดทั้ง2v.แล้วนะคะ 🥰</td>\n",
              "      <td>0</td>\n",
              "    </tr>\n",
              "    <tr>\n",
              "      <th>8</th>\n",
              "      <td>1269251554349068289</td>\n",
              "      <td>1115408258242678786</td>\n",
              "      <td>Rose Flights ⚘</td>\n",
              "      <td>Me sure</td>\n",
              "      <td>0</td>\n",
              "    </tr>\n",
              "    <tr>\n",
              "      <th>9</th>\n",
              "      <td>1269251550137872384</td>\n",
              "      <td>1164141604439056385</td>\n",
              "      <td>Bruce McLeod 🏴󠁧󠁢󠁳󠁣󠁴󠁿</td>\n",
              "      <td>Morning, lovelies. \\n\\nWrestle Da is currently...</td>\n",
              "      <td>0</td>\n",
              "    </tr>\n",
              "    <tr>\n",
              "      <th>10</th>\n",
              "      <td>1269251542772625408</td>\n",
              "      <td>1146107780681482240</td>\n",
              "      <td>Sakshat Codes.</td>\n",
              "      <td>@goairlinesindia my flight G8 116 Bangalore to...</td>\n",
              "      <td>0</td>\n",
              "    </tr>\n",
              "    <tr>\n",
              "      <th>11</th>\n",
              "      <td>1269251537919971330</td>\n",
              "      <td>228364667</td>\n",
              "      <td>Chris Jackson</td>\n",
              "      <td>A very interesting paper. Chimes with what UIT...</td>\n",
              "      <td>0</td>\n",
              "    </tr>\n",
              "    <tr>\n",
              "      <th>12</th>\n",
              "      <td>1269251536166715393</td>\n",
              "      <td>1261716894048047105</td>\n",
              "      <td>Ganapathy Raman</td>\n",
              "      <td>@RahulGandhi Dear Rahul ji we indians from nor...</td>\n",
              "      <td>0</td>\n",
              "    </tr>\n",
              "    <tr>\n",
              "      <th>13</th>\n",
              "      <td>1269251508597645312</td>\n",
              "      <td>164583808</td>\n",
              "      <td>Biny Backwood</td>\n",
              "      <td>2 Chainz verse is fucking iconic 🔥🔥 https://tw...</td>\n",
              "      <td>0</td>\n",
              "    </tr>\n",
              "    <tr>\n",
              "      <th>14</th>\n",
              "      <td>1269251501089849344</td>\n",
              "      <td>1239501139101573120</td>\n",
              "      <td>Amit</td>\n",
              "      <td>No flights to Mumbai or pune from oman yet .</td>\n",
              "      <td>0</td>\n",
              "    </tr>\n",
              "    <tr>\n",
              "      <th>15</th>\n",
              "      <td>1269251480051204096</td>\n",
              "      <td>1248938534834061312</td>\n",
              "      <td>Harshita Gupta</td>\n",
              "      <td>What about dubai to delhi? Dont the people stu...</td>\n",
              "      <td>0</td>\n",
              "    </tr>\n",
              "    <tr>\n",
              "      <th>16</th>\n",
              "      <td>1269251475991080960</td>\n",
              "      <td>364989031</td>\n",
              "      <td>Denis Allen</td>\n",
              "      <td>@Delta I’m supposed to be on a flight from PUJ...</td>\n",
              "      <td>0</td>\n",
              "    </tr>\n",
              "    <tr>\n",
              "      <th>17</th>\n",
              "      <td>1269251461277507585</td>\n",
              "      <td>1002575672672309248</td>\n",
              "      <td>Amay Shirke</td>\n",
              "      <td>@cgidubai @CMOMaharashtra @AUThackeray @PMOInd...</td>\n",
              "      <td>0</td>\n",
              "    </tr>\n",
              "    <tr>\n",
              "      <th>18</th>\n",
              "      <td>1269251451576090626</td>\n",
              "      <td>3877707159</td>\n",
              "      <td>🅂🅃🄰🅈🄰🅃🄷🄾🄼🄴</td>\n",
              "      <td>Rcgeek 2 Set Reflective Stickers Compatible wi...</td>\n",
              "      <td>0</td>\n",
              "    </tr>\n",
              "    <tr>\n",
              "      <th>19</th>\n",
              "      <td>1269251445527887874</td>\n",
              "      <td>1244303872539201537</td>\n",
              "      <td>Jenny Barnes</td>\n",
              "      <td>@loveholidays Hi again well still waiting for ...</td>\n",
              "      <td>0</td>\n",
              "    </tr>\n",
              "  </tbody>\n",
              "</table>\n",
              "</div>"
            ],
            "text/plain": [
              "                     id  ...  value\n",
              "0   1269251597617545217  ...      0\n",
              "1   1269251591976022018  ...      0\n",
              "2   1269251591821017089  ...      0\n",
              "3   1269251582022938624  ...      0\n",
              "4   1269251580441886723  ...      0\n",
              "5   1269251572271218688  ...      0\n",
              "6   1269251555934470144  ...      0\n",
              "7   1269251555473137665  ...      0\n",
              "8   1269251554349068289  ...      0\n",
              "9   1269251550137872384  ...      0\n",
              "10  1269251542772625408  ...      0\n",
              "11  1269251537919971330  ...      0\n",
              "12  1269251536166715393  ...      0\n",
              "13  1269251508597645312  ...      0\n",
              "14  1269251501089849344  ...      0\n",
              "15  1269251480051204096  ...      0\n",
              "16  1269251475991080960  ...      0\n",
              "17  1269251461277507585  ...      0\n",
              "18  1269251451576090626  ...      0\n",
              "19  1269251445527887874  ...      0\n",
              "\n",
              "[20 rows x 5 columns]"
            ]
          },
          "metadata": {
            "tags": []
          },
          "execution_count": 17
        }
      ]
    },
    {
      "cell_type": "code",
      "metadata": {
        "id": "4ilrU1O_J2-4",
        "colab_type": "code",
        "colab": {}
      },
      "source": [
        "y=df1[['value']]"
      ],
      "execution_count": 0,
      "outputs": []
    },
    {
      "cell_type": "code",
      "metadata": {
        "id": "XE2wDuEQL3ZC",
        "colab_type": "code",
        "colab": {
          "base_uri": "https://localhost:8080/",
          "height": 34
        },
        "outputId": "fe407f9a-0ba0-474f-aee9-6892f9acc926"
      },
      "source": [
        "X.shape"
      ],
      "execution_count": 19,
      "outputs": [
        {
          "output_type": "execute_result",
          "data": {
            "text/plain": [
              "(5724, 2000)"
            ]
          },
          "metadata": {
            "tags": []
          },
          "execution_count": 19
        }
      ]
    },
    {
      "cell_type": "code",
      "metadata": {
        "id": "aMrHG0GTMRA3",
        "colab_type": "code",
        "colab": {
          "base_uri": "https://localhost:8080/",
          "height": 34
        },
        "outputId": "c4f776ac-a10c-44e9-9a61-f535749cba7d"
      },
      "source": [
        "y.shape"
      ],
      "execution_count": 20,
      "outputs": [
        {
          "output_type": "execute_result",
          "data": {
            "text/plain": [
              "(5724, 1)"
            ]
          },
          "metadata": {
            "tags": []
          },
          "execution_count": 20
        }
      ]
    },
    {
      "cell_type": "code",
      "metadata": {
        "id": "-03UOLJKUTj0",
        "colab_type": "code",
        "colab": {
          "base_uri": "https://localhost:8080/",
          "height": 151
        },
        "outputId": "e1634da8-7b98-4e04-cff8-e8d9598cf9a8"
      },
      "source": [
        "y.info()"
      ],
      "execution_count": 21,
      "outputs": [
        {
          "output_type": "stream",
          "text": [
            "<class 'pandas.core.frame.DataFrame'>\n",
            "RangeIndex: 5724 entries, 0 to 5723\n",
            "Data columns (total 1 columns):\n",
            " #   Column  Non-Null Count  Dtype\n",
            "---  ------  --------------  -----\n",
            " 0   value   5724 non-null   int64\n",
            "dtypes: int64(1)\n",
            "memory usage: 44.8 KB\n"
          ],
          "name": "stdout"
        }
      ]
    },
    {
      "cell_type": "code",
      "metadata": {
        "id": "9rxj7fy6e83O",
        "colab_type": "code",
        "colab": {}
      },
      "source": [
        "from sklearn.model_selection import train_test_split\n",
        "X_train, X_test, y_train, y_test = train_test_split(X, y, test_size=0.20, random_state=0)"
      ],
      "execution_count": 0,
      "outputs": []
    },
    {
      "cell_type": "code",
      "metadata": {
        "id": "GHRbKiuYfD28",
        "colab_type": "code",
        "colab": {}
      },
      "source": [
        "from sklearn.naive_bayes import MultinomialNB\n",
        "classifier=MultinomialNB()"
      ],
      "execution_count": 0,
      "outputs": []
    },
    {
      "cell_type": "code",
      "metadata": {
        "id": "SHmxbBtvfI4G",
        "colab_type": "code",
        "colab": {}
      },
      "source": [
        "from sklearn import metrics\n",
        "from sklearn.metrics import confusion_matrix"
      ],
      "execution_count": 0,
      "outputs": []
    },
    {
      "cell_type": "code",
      "metadata": {
        "id": "iwDHB3nFfMEn",
        "colab_type": "code",
        "colab": {
          "base_uri": "https://localhost:8080/",
          "height": 104
        },
        "outputId": "415b8b20-ccfd-427b-a8f2-3e03c7fb760c"
      },
      "source": [
        "classifier.fit(X_train, y_train)\n",
        "pred = classifier.predict(X_test)\n",
        "score = metrics.accuracy_score(y_test, pred)\n",
        "print(\"accuracy:   %0.3f\" % score)\n",
        "metrics.confusion_matrix(y_test, pred)"
      ],
      "execution_count": 25,
      "outputs": [
        {
          "output_type": "stream",
          "text": [
            "accuracy:   1.000\n"
          ],
          "name": "stdout"
        },
        {
          "output_type": "stream",
          "text": [
            "/usr/local/lib/python3.6/dist-packages/sklearn/utils/validation.py:760: DataConversionWarning: A column-vector y was passed when a 1d array was expected. Please change the shape of y to (n_samples, ), for example using ravel().\n",
            "  y = column_or_1d(y, warn=True)\n"
          ],
          "name": "stderr"
        },
        {
          "output_type": "execute_result",
          "data": {
            "text/plain": [
              "array([[1145]])"
            ]
          },
          "metadata": {
            "tags": []
          },
          "execution_count": 25
        }
      ]
    }
  ]
}